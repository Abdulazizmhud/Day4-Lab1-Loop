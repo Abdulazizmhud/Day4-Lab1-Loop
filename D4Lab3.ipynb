{
 "cells": [
  {
   "cell_type": "code",
   "execution_count": null,
   "id": "8ea7189f",
   "metadata": {},
   "outputs": [],
   "source": [
    "for i in range(45, 210):\n",
    "    if i == 100:\n",
    "        continue\n",
    "    elif i == 205:\n",
    "        break\n",
    "    print(i)\n",
    "    \n",
    "    \n",
    "userinput = int(input(\"what is the product of 7 * 24 ?\"))\n",
    "while userinput == 168:\n",
    "    print(\"You answered this Question correctly\")\n",
    "else:\n",
    "    print(\"Your Answer is wrong try again..\")\n",
    "    userinput = int(input(\"what is the product of 7 * 24 ?\"))\n",
    "    \n",
    "\n",
    "    "
   ]
  },
  {
   "cell_type": "code",
   "execution_count": 33,
   "id": "a39a182e",
   "metadata": {},
   "outputs": [],
   "source": [
    "def pattern(x):\n",
    "    for i in reversed(range(1,x+1)):\n",
    "        for j in reversed(range(1,i+1)):\n",
    "            print(j,end=' ')\n",
    "        print('')\n",
    "        "
   ]
  },
  {
   "cell_type": "code",
   "execution_count": 34,
   "id": "8527386d",
   "metadata": {},
   "outputs": [
    {
     "name": "stdout",
     "output_type": "stream",
     "text": [
      "5 4 3 2 1 \n",
      "4 3 2 1 \n",
      "3 2 1 \n",
      "2 1 \n",
      "1 \n"
     ]
    }
   ],
   "source": [
    "pattern(5)"
   ]
  },
  {
   "cell_type": "code",
   "execution_count": null,
   "id": "abac6d25",
   "metadata": {},
   "outputs": [],
   "source": []
  }
 ],
 "metadata": {
  "kernelspec": {
   "display_name": "Python 3",
   "language": "python",
   "name": "python3"
  },
  "language_info": {
   "codemirror_mode": {
    "name": "ipython",
    "version": 3
   },
   "file_extension": ".py",
   "mimetype": "text/x-python",
   "name": "python",
   "nbconvert_exporter": "python",
   "pygments_lexer": "ipython3",
   "version": "3.8.8"
  }
 },
 "nbformat": 4,
 "nbformat_minor": 5
}
